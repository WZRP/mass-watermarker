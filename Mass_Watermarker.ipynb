{
  "nbformat": 4,
  "nbformat_minor": 0,
  "metadata": {
    "colab": {
      "provenance": [],
      "include_colab_link": true
    },
    "kernelspec": {
      "name": "python3",
      "display_name": "Python 3"
    },
    "language_info": {
      "name": "python"
    }
  },
  "cells": [
    {
      "cell_type": "markdown",
      "metadata": {
        "id": "view-in-github",
        "colab_type": "text"
      },
      "source": [
        "<a href=\"https://colab.research.google.com/github/WZRP/mass-watermarker/blob/main/Mass_Watermarker.ipynb\" target=\"_parent\"><img src=\"https://colab.research.google.com/assets/colab-badge.svg\" alt=\"Open In Colab\"/></a>"
      ]
    },
    {
      "cell_type": "markdown",
      "source": [
        "# Please open Colab Files Explorer to Upload the Watermark Image yourself."
      ],
      "metadata": {
        "id": "EZ2M9ygkAXSO"
      }
    },
    {
      "cell_type": "code",
      "execution_count": null,
      "metadata": {
        "id": "42udQiXA5yDO",
        "cellView": "form"
      },
      "outputs": [],
      "source": [
        "#@title # Download ZIP of images, then UNZIP to folder\n",
        "import os\n",
        "import io\n",
        "import requests\n",
        "import zipfile\n",
        "\n",
        "# Define the URL of the file to download\n",
        "url = \"\" #@param {'type': 'string'}\n",
        "\n",
        "# Define the name of the local directory to extract to\n",
        "extract_dir = \"\" #@param {'type': 'string'}\n",
        "\n",
        "# Create the directory if it doesn't exist\n",
        "if not os.path.exists(extract_dir):\n",
        "    os.makedirs(extract_dir)\n",
        "\n",
        "# Download the file and save it to memory\n",
        "response = requests.get(url)\n",
        "data = response.content\n",
        "\n",
        "# Extract the contents of the ZIP file to the directory\n",
        "with zipfile.ZipFile(io.BytesIO(data)) as zip_ref:\n",
        "    zip_ref.extractall(extract_dir)"
      ]
    },
    {
      "cell_type": "code",
      "source": [
        "#@title # Convert all Images to PNG\n",
        "import os\n",
        "from PIL import Image\n",
        "\n",
        "# Define the directory path\n",
        "dir_path = \"\" #@param {'type': 'string'}\n",
        "\n",
        "# Loop through all files in the directory\n",
        "for filename in os.listdir(dir_path):\n",
        "    # Check if the file is an image (JPG or JPEG)\n",
        "    if filename.lower().endswith(('.jpg', '.jpeg')):\n",
        "        # Rename the file to have a .png extension\n",
        "        os.rename(os.path.join(dir_path, filename), os.path.join(dir_path, os.path.splitext(filename)[0] + \".png\"))"
      ],
      "metadata": {
        "id": "-8ffoE17MbI3",
        "cellView": "form"
      },
      "execution_count": null,
      "outputs": []
    },
    {
      "cell_type": "code",
      "source": [
        "#@title # Mass Rename Images to 0000 -> 9999\n",
        "import os\n",
        "\n",
        "# Define the directory path\n",
        "folder_dir = \"\"  #@param {'type': 'string'}\n",
        "\n",
        "# Define the starting number for the renaming\n",
        "start_num = 0\n",
        "\n",
        "# Loop through all files in the directory\n",
        "for filename in os.listdir(folder_dir):\n",
        "    # Check if the file is an image (JPG, JPEG, or PNG)\n",
        "    if filename.lower().endswith(('.jpg', '.jpeg', '.png')):\n",
        "        # Generate the new filename with a four-digit number\n",
        "        new_filename = f\"{start_num:04}.png\"\n",
        "        # Rename the file with the new filename\n",
        "        os.rename(os.path.join(folder_dir, filename), os.path.join(folder_dir, new_filename))\n",
        "        # Increment the start number for the next file\n",
        "        start_num += 1"
      ],
      "metadata": {
        "cellView": "form",
        "id": "5Qxc-RrePyJ-"
      },
      "execution_count": null,
      "outputs": []
    },
    {
      "cell_type": "code",
      "source": [
        "#@title # Image Dimension Viewer\n",
        "import os\n",
        "from PIL import Image\n",
        "\n",
        "# Define the input directory path\n",
        "input_dir = \"/content/raw\"\n",
        "\n",
        "# Create an empty list to store the dimensions of all images\n",
        "dimensions = []\n",
        "\n",
        "# Loop through all files in the input directory\n",
        "for filename in os.listdir(input_dir):\n",
        "    # Check if the file is an image (JPEG or PNG)\n",
        "    if filename.lower().endswith(('.jpg', '.jpeg', '.png')):\n",
        "        # Open the image file\n",
        "        input_filepath = os.path.join(input_dir, filename)\n",
        "        with Image.open(input_filepath) as img:\n",
        "            # Get the dimensions of the image\n",
        "            width, height = img.size\n",
        "            # Add the filename and dimensions to the list\n",
        "            dimensions.append((filename, width, height))\n",
        "\n",
        "# Print the list of filenames and dimensions\n",
        "for filename, width, height in dimensions:\n",
        "    print(f\"{filename}: {width}x{height}\")"
      ],
      "metadata": {
        "id": "SXFoKxA0SkTL",
        "cellView": "form"
      },
      "execution_count": null,
      "outputs": []
    },
    {
      "cell_type": "code",
      "source": [
        "#@title # Mass Insert Watermark (Upgraded)\n",
        "import os\n",
        "import tqdm\n",
        "from PIL import Image\n",
        "\n",
        "# Watermark image file\n",
        "watermark_file = '' #@param {'type': 'string'}\n",
        "\n",
        "# Folder of images to watermark\n",
        "images_folder = '' #@param {'type': 'string'}\n",
        "\n",
        "# Output folder for watermarked images\n",
        "output_folder = '' #@param {'type': 'string'}\n",
        "\n",
        "\n",
        "# Create output folder if doesn't exist\n",
        "if not os.path.exists(output_folder):\n",
        "  os.makedirs(output_folder)\n",
        "\n",
        "# Load watermark image\n",
        "watermark = Image.open(watermark_file)\n",
        "\n",
        "# Get number of images to process\n",
        "num_images = len(os.listdir(images_folder))\n",
        "\n",
        "# Sort image names alphabetically\n",
        "image_files = sorted(os.listdir(images_folder))\n",
        "\n",
        "# Process images with progress bar\n",
        "with tqdm.tqdm(total=num_images) as pbar:\n",
        "  for i, image_file in enumerate(image_files):\n",
        "\n",
        "    # Open image\n",
        "    try:\n",
        "      image = Image.open(os.path.join(images_folder, image_file))\n",
        "    except OSError as e:\n",
        "      print(f\"Error opening {image_file}: {e}\")\n",
        "      continue\n",
        "\n",
        "    # Watermark image\n",
        "    w, h = watermark.size\n",
        "    padding = 128\n",
        "    image.paste(watermark, (padding, image.height - h - padding), watermark)\n",
        "\n",
        "    # Save watermarked image as PNG\n",
        "    output_path = os.path.join(output_folder, os.path.splitext(image_file)[0] + '.png')\n",
        "    image.save(output_path)\n",
        "\n",
        "    # Update progress bar\n",
        "    pbar.update(1)\n",
        "\n",
        "print('\\nWatermarked images saved to', output_folder)"
      ],
      "metadata": {
        "cellView": "form",
        "id": "hlaZskQz6WG3"
      },
      "execution_count": null,
      "outputs": []
    },
    {
      "cell_type": "code",
      "source": [
        "#@title # ZIP Folder\n",
        "import os\n",
        "import zipfile\n",
        "import tqdm\n",
        "\n",
        "# Define the input directory path, the desired name of the ZIP file,\n",
        "# and the desired output directory for the ZIP file\n",
        "input_dir = \"\" #@param {'type': 'string'}\n",
        "zip_filename = \"\" #@param {'type': 'string'}\n",
        "output_dir = \"\" #@param {'type': 'string'}\n",
        "\n",
        "# Create a new ZIP file\n",
        "output_zip = os.path.join(output_dir, zip_filename)\n",
        "with zipfile.ZipFile(output_zip, 'w', zipfile.ZIP_DEFLATED) as zip_file:\n",
        "    # Get the number of files to add to the ZIP archive\n",
        "    num_files = sum(len(files) for _, _, files in os.walk(input_dir))\n",
        "\n",
        "    # Loop through all files in the input directory and add them to the ZIP archive\n",
        "    with tqdm.tqdm(total=num_files) as pbar:\n",
        "        for root, dirs, files in os.walk(input_dir):\n",
        "            for file in files:\n",
        "                # Get the full path of the file\n",
        "                file_path = os.path.join(root, file)\n",
        "                # Add the file to the ZIP archive\n",
        "                zip_file.write(file_path, arcname=os.path.relpath(file_path, input_dir))\n",
        "                # Update the progress bar\n",
        "                pbar.update(1)\n",
        "\n",
        "print(f\"\\nZIP archive created successfully at {output_zip}\")"
      ],
      "metadata": {
        "id": "yMxf7HHeUYXs",
        "cellView": "form"
      },
      "execution_count": null,
      "outputs": []
    }
  ]
}